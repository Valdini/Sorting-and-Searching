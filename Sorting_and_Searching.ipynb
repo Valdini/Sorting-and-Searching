{
  "nbformat": 4,
  "nbformat_minor": 0,
  "metadata": {
    "colab": {
      "name": "Sorting and Searching.ipynb",
      "version": "0.3.2",
      "provenance": [],
      "collapsed_sections": [],
      "include_colab_link": true
    },
    "kernelspec": {
      "name": "python3",
      "display_name": "Python 3"
    },
    "accelerator": "GPU"
  },
  "cells": [
    {
      "cell_type": "markdown",
      "metadata": {
        "id": "view-in-github",
        "colab_type": "text"
      },
      "source": [
        "<a href=\"https://colab.research.google.com/github/Valdini/Sorting-and-Searching/blob/master/Sorting_and_Searching.ipynb\" target=\"_parent\"><img src=\"https://colab.research.google.com/assets/colab-badge.svg\" alt=\"Open In Colab\"/></a>"
      ]
    },
    {
      "metadata": {
        "id": "UFZDRpcZ_Dqr",
        "colab_type": "code",
        "outputId": "80f56e01-c19d-4ccc-87c3-38427147c900",
        "colab": {
          "base_uri": "https://localhost:8080/",
          "height": 88
        }
      },
      "cell_type": "code",
      "source": [
        "#sorting and searching - Finding the number of elements in a typical range given a list\n",
        "import numpy as np\n",
        "from sklearn.utils import shuffle\n",
        "import bisect\n",
        "\n",
        "lowi = 1\n",
        "uppi = 10000\n",
        "numitems = 45\n",
        "uppi_search = 6000\n",
        "lowi_search = 4000\n",
        "a = np.arange(lowi,uppi,numitems)\n",
        "a = shuffle(a)\n",
        "a.sort()\n",
        "#print(a)\n",
        "\n",
        "\n",
        "l = a\n",
        "lower_bound = lowi_search\n",
        "upper_bound = uppi_search\n",
        "\n",
        "lower_bound_i = bisect.bisect_left(l, lower_bound)\n",
        "upper_bound_i = bisect.bisect_right(l, upper_bound, lo=lower_bound_i)\n",
        "nums = l[lower_bound_i:upper_bound_i]\n",
        "print(nums)"
      ],
      "execution_count": 0,
      "outputs": [
        {
          "output_type": "stream",
          "text": [
            "[4006 4051 4096 4141 4186 4231 4276 4321 4366 4411 4456 4501 4546 4591\n",
            " 4636 4681 4726 4771 4816 4861 4906 4951 4996 5041 5086 5131 5176 5221\n",
            " 5266 5311 5356 5401 5446 5491 5536 5581 5626 5671 5716 5761 5806 5851\n",
            " 5896 5941 5986]\n"
          ],
          "name": "stdout"
        }
      ]
    }
  ]
}